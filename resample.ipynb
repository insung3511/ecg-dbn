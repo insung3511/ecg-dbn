{
 "cells": [
  {
   "cell_type": "code",
   "execution_count": 1,
   "metadata": {},
   "outputs": [],
   "source": [
    "import numpy as np\n",
    "\n",
    "import bisect\n",
    "import scipy.signal as ss\n",
    "import scipy.io as io\n",
    "import scipy\n",
    "\n",
    "from wfdb import processing as wp\n",
    "import wfdb"
   ]
  },
  {
   "cell_type": "code",
   "execution_count": 2,
   "metadata": {},
   "outputs": [],
   "source": [
    "\n",
    "FILE_NUM_FLAG = 0\n",
    "DB_LIST = ['db1', 'db2', 'db3/svdb']\n",
    "PATH = './data/' + DB_LIST[FILE_NUM_FLAG] + '/'\n",
    "\n",
    "db1_signals = list()\n",
    "db2_signals = list()\n",
    "db3_signals = list()\n",
    "db1_anno = list()\n",
    "db2_anno = list()\n",
    "db3_anno = list()\n",
    "\n",
    "def get_median_filter_width(sampling_rate, duration):\n",
    "    res = int(sampling_rate * duration)\n",
    "    res += ((res % 2) - 1)\n",
    "    return res\n",
    "\n",
    "\n",
    "def filter_signal(X):\n",
    "    global mfa\n",
    "    X0 = X\n",
    "    for mi in range(0, len(mfa)):\n",
    "        X0 = ss.medfilt(X0, mfa[mi])\n",
    "    return X0"
   ]
  },
  {
   "cell_type": "code",
   "execution_count": 3,
   "metadata": {},
   "outputs": [
    {
     "name": "stdout",
     "output_type": "stream",
     "text": [
      "[INFO] Read records file from  ./data/db1/\n",
      "[RSLT]\t\t\t Export records ...\n"
     ]
    }
   ],
   "source": [
    "print(\"[INFO] Read records file from \", PATH)\n",
    "with open(PATH + 'RECORDS') as f:\n",
    "    record_lines = f.readlines()\n",
    "\n",
    "pre_records = []\n",
    "for x in record_lines:\n",
    "    pre_records.append(x.strip())\n",
    "print(\"[RSLT]\\t\\t\\t Export records ...\")"
   ]
  },
  {
   "cell_type": "code",
   "execution_count": 4,
   "metadata": {},
   "outputs": [],
   "source": [
    "\n",
    "def medianSlidingWindow(nums, k):\n",
    "  if k == 0: return []\n",
    "  ans = []\n",
    "  window = sorted(nums[0:k])\n",
    "  for i in range(k, len(nums) + 1):\n",
    "    ans.append((window[k // 2] + window[(k - 1) // 2]) / 2.0)\n",
    "    if i == len(nums): break\n",
    "    index = bisect.bisect_left(window, nums[i - k])\n",
    "    window.pop(index)      \n",
    "    bisect.insort_left(window, nums[i])\n",
    "  return ans"
   ]
  },
  {
   "cell_type": "code",
   "execution_count": 5,
   "metadata": {},
   "outputs": [
    {
     "name": "stdout",
     "output_type": "stream",
     "text": [
      "[INFO] Read records file from  ./data/db1/\n",
      "[RSLT]\t\t\t Export records ...\n",
      "[INFO]./rdsamp commending start\n",
      "[IWIP]\t\trdsamp Converting 101\n"
     ]
    },
    {
     "name": "stderr",
     "output_type": "stream",
     "text": [
      "c:\\Users\\HILAB_Labtop_02\\anaconda3\\lib\\site-packages\\scipy\\signal\\signaltools.py:1531: UserWarning: kernel_size exceeds volume extent: the volume will be zero-padded.\n",
      "  warnings.warn('kernel_size exceeds volume extent: the volume will be '\n"
     ]
    }
   ],
   "source": [
    "print(\"[INFO] Read records file from \", PATH)\n",
    "with open(PATH + 'RECORDS') as f:\n",
    "    record_lines = f.readlines()\n",
    "\n",
    "pre_records = []\n",
    "for x in record_lines:\n",
    "    pre_records.append(x.strip())\n",
    "print(\"[RSLT]\\t\\t\\t Export records ...\")\n",
    "\n",
    "print(\"[INFO]./rdsamp commending start\")\n",
    "for i in range(len(pre_records)):\n",
    "    match_list_cnt = 0\n",
    "    print(\"[IWIP]\\t\\trdsamp Converting\", pre_records[i])\n",
    "    signals, _ = wfdb.rdsamp(PATH + pre_records[i], sampfrom=0)\n",
    "    annotation = wfdb.rdann(PATH + pre_records[i], 'atr', sampfrom=0, return_label_elements=['symbol'])\n",
    "\n",
    "    ms_flt_array = [0.2, 0.6]\n",
    "    mfa = np.zeros(len(ms_flt_array), dtype='int')\n",
    "    for i in range(0, len(ms_flt_array)):\n",
    "        mfa[i] = get_median_filter_width(360, ms_flt_array[i])\n",
    "\n",
    "    signal_flt = (filter_signal(signals)).tolist()\n",
    "\n",
    "    db1_signals.append(signal_flt)\n",
    "    db1_anno.append(annotation.symbol)\n",
    "\n",
    "    print(signal_flt)\n",
    "    print(len(signal_flt))"
   ]
  },
  {
   "cell_type": "code",
   "execution_count": null,
   "metadata": {},
   "outputs": [],
   "source": [
    "FILE_NUM_FLAG = 1\n",
    "PATH = './data/' + DB_LIST[FILE_NUM_FLAG] + '/'\n",
    "\n",
    "print(\"[INFO] Read records file from \", PATH)\n",
    "with open(PATH + 'RECORDS') as f:\n",
    "    record_lines = f.readlines()\n",
    "\n",
    "pre_records = []\n",
    "for x in record_lines:\n",
    "    pre_records.append(x.strip())\n",
    "print(\"[RSLT]\\t\\t\\t Export records ...\")\n",
    "\n",
    "print(\"[INFO]./rdsamp commending start\")\n",
    "for i in range(len(pre_records)):\n",
    "    match_list_cnt = 0\n",
    "    print(\"[IWIP]\\t\\trdsamp Converting\", pre_records[i])\n",
    "    signals, _ = wfdb.rdsamp(PATH + pre_records[i], sampfrom=0)\n",
    "    annotation = wfdb.rdann(PATH + pre_records[i], 'atr', sampfrom=0, return_label_elements=['symbol'])\n",
    "\n",
    "    ms_flt_array = [0.2, 0.6]\n",
    "    mfa = np.zeros(len(ms_flt_array), dtype='int')\n",
    "    for i in range(0, len(ms_flt_array)):\n",
    "        mfa[i] = get_median_filter_width(360, ms_flt_array[i])\n",
    "\n",
    "    signal_flt = (filter_signal(signals)).tolist()\n",
    "\n",
    "    db2_signals.append(signal_flt)\n",
    "    db2_anno.append(annotation.symbol)\n",
    "\n",
    "    print(signal_flt)\n",
    "    print(len(signal_flt))"
   ]
  },
  {
   "cell_type": "code",
   "execution_count": null,
   "metadata": {},
   "outputs": [],
   "source": [
    "FILE_NUM_FLAG = 1\n",
    "PATH = './data/' + DB_LIST[FILE_NUM_FLAG] + '/'\n",
    "\n",
    "print(\"[INFO] Read records file from \", PATH)\n",
    "with open(PATH + 'RECORDS') as f:\n",
    "    record_lines = f.readlines()\n",
    "\n",
    "pre_records = []\n",
    "for x in record_lines:\n",
    "    pre_records.append(x.strip())\n",
    "print(\"[RSLT]\\t\\t\\t Export records ...\")\n",
    "\n",
    "print(\"[INFO]./rdsamp commending start\")\n",
    "for i in range(len(pre_records)):\n",
    "    match_list_cnt = 0\n",
    "    print(\"[IWIP]\\t\\trdsamp Converting\", pre_records[i])\n",
    "    signals, _ = wfdb.rdsamp(PATH + pre_records[i], sampfrom=0)\n",
    "    annotation = wfdb.rdann(PATH + pre_records[i], 'atr', sampfrom=0, return_label_elements=['symbol'])\n",
    "\n",
    "    ms_flt_array = [0.2, 0.6]\n",
    "    mfa = np.zeros(len(ms_flt_array), dtype='int')\n",
    "    for i in range(0, len(ms_flt_array)):\n",
    "        mfa[i] = get_median_filter_width(360, ms_flt_array[i])\n",
    "\n",
    "    signal_flt = (filter_signal(signals)).tolist()\n",
    "\n",
    "    db3_signals.append(signal_flt)\n",
    "    db3_anno.append(annotation.symbol)\n",
    "\n",
    "    print(signal_flt)\n",
    "    print(len(signal_flt))"
   ]
  },
  {
   "cell_type": "code",
   "execution_count": null,
   "metadata": {},
   "outputs": [],
   "source": []
  }
 ],
 "metadata": {
  "interpreter": {
   "hash": "6c3cabcf2f29820bdd7faae982b59d335e0d215fb5382d93f3312fa3292e9b7f"
  },
  "kernelspec": {
   "display_name": "Python 3.9.7 ('base')",
   "language": "python",
   "name": "python3"
  },
  "language_info": {
   "codemirror_mode": {
    "name": "ipython",
    "version": 3
   },
   "file_extension": ".py",
   "mimetype": "text/x-python",
   "name": "python",
   "nbconvert_exporter": "python",
   "pygments_lexer": "ipython3",
   "version": "3.9.7"
  },
  "orig_nbformat": 4
 },
 "nbformat": 4,
 "nbformat_minor": 2
}
